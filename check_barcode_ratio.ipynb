{
 "cells": [
  {
   "cell_type": "markdown",
   "source": [
    "### 1. Write a function that takes a list of URLs as input and returns the ratio of products with null barcodes."
   ],
   "metadata": {
    "collapsed": false
   },
   "id": "b6be8e104270251"
  },
  {
   "cell_type": "code",
   "execution_count": 13,
   "outputs": [],
   "source": [
    "\"\"\"\n",
    "This script contains the functions to calculate the ratio of products with null barcodes from a sample of product URLs.\n",
    "1. The load_urls function loads the product URLs either from a file or via the get_urls function.\n",
    "2. The process_urls function processes a subset of URLs to count products with null barcodes.\n",
    "3. The check_barcode_null_ratio function calculates the ratio of products with null barcodes from a sample of product URLs.\n",
    "\"\"\"\n",
    "\n",
    "import os\n",
    "from url_extractor import get_urls\n",
    "from decorators import timer\n",
    "import scraper\n",
    "import pandas as pd\n",
    "from concurrent.futures import ThreadPoolExecutor\n",
    "\n",
    "\n",
    "def load_urls() -> list[str]:\n",
    "    \"\"\"\n",
    "    Load product URLs either from a file or via the get_urls function.\n",
    "\n",
    "    If a file named 'urls.txt' exists in the 'tests/files/' directory, the function will read the URLs from this file.\n",
    "    Otherwise, it will call the get_urls function to retrieve the URLs.\n",
    "\n",
    "    :return: a list of urls\n",
    "    \"\"\"\n",
    "    target_path = os.path.join(os.getcwd(), 'tests/files/urls.txt')\n",
    "    if os.path.exists(target_path):\n",
    "        with open(target_path, 'r') as f:\n",
    "            urls = [line.strip() for line in f.readlines()]\n",
    "        return urls\n",
    "    else:\n",
    "        urls_dict = get_urls()\n",
    "        return urls_dict['urls']\n",
    "\n",
    "\n",
    "def process_urls(subset_urls, scraper_obj) -> tuple[int, list[dict]]:\n",
    "    \"\"\"\n",
    "    Process a subset of URLs to count products with null barcodes.\n",
    "\n",
    "    :param subset_urls: A subset of product URLs to process.\n",
    "    :param scraper_obj: An instance of the Scraper class to use for extracting product details.\n",
    "    :return: Count of products with null barcodes in the given subset of URLs and the list of product details.\n",
    "    \"\"\"\n",
    "    null_count = 0\n",
    "    product_details_subset_list = []\n",
    "    for url in subset_urls:\n",
    "        product_details = scraper_obj.scrape_details(url)\n",
    "        product_details_subset_list.append(product_details)\n",
    "        barcode = product_details.get('barcode')\n",
    "        if barcode is None:\n",
    "            null_count += 1\n",
    "    return null_count, product_details_subset_list\n",
    "\n",
    "\n",
    "@timer\n",
    "def check_barcode_null_ratio(sample_size=250) -> tuple[float, int, pd.DataFrame]:\n",
    "    \"\"\"\n",
    "    Calculate the ratio of products with null barcodes from a sample of product URLs.\n",
    "\n",
    "    :param sample_size: Number of URLs to process. Defaults to 250.\n",
    "    :return:  Ratio of products with null barcodes, rounded to three decimal places.\n",
    "    \"\"\"\n",
    "    # Load the URLs\n",
    "    urls = load_urls()\n",
    "    # adjust the sample size if necessary\n",
    "    if len(urls) < sample_size:\n",
    "        sample_size = len(urls)\n",
    "\n",
    "    # Split the URLs for multi-threading\n",
    "    num_threads = 20  # Choose a suitable number of threads\n",
    "    chunk_size = len(urls) // num_threads\n",
    "    url_chunks = [urls[i:i + chunk_size] for i in range(0, len(urls), chunk_size)]\n",
    "\n",
    "    # Initialize a scraper object for each thread\n",
    "    scraper_objects = [scraper.Scraper() for _ in range(num_threads)]\n",
    "\n",
    "    with ThreadPoolExecutor(max_workers=num_threads) as executor:\n",
    "        # Use zip to pair each url_chunk with its corresponding scraper object\n",
    "        results = list(executor.map(process_urls, url_chunks, scraper_objects))\n",
    "        \n",
    "        # Unpack the results\n",
    "        total_null_count = sum(results[i][0] for i in range(len(results)))\n",
    "        product_details_list = [product_details for result in results for product_details in result[1]]\n",
    "\n",
    "    # Close each scraper object after processing\n",
    "    for scraper_obj in scraper_objects:\n",
    "        scraper_obj.close()\n",
    "\n",
    "    ratio = total_null_count / sample_size\n",
    "    product_details_df = pd.DataFrame(product_details_list)\n",
    "    return ratio.__round__(3), sample_size, product_details_df"
   ],
   "metadata": {
    "collapsed": false,
    "ExecuteTime": {
     "end_time": "2023-10-01T18:07:25.275679Z",
     "start_time": "2023-10-01T18:07:25.270334400Z"
    }
   },
   "id": "e287b997180a0f9e"
  },
  {
   "cell_type": "markdown",
   "source": [
    "### 2. Call the function from step 1 and print the null ratio, sample size, and the time it took to run check_barcode_null_ratio function."
   ],
   "metadata": {
    "collapsed": false
   },
   "id": "7beddf4416983ddd"
  },
  {
   "cell_type": "code",
   "execution_count": 14,
   "outputs": [
    {
     "name": "stdout",
     "output_type": "stream",
     "text": [
      "check_barcode_null_ratio took 328.8042070865631 seconds\n",
      "Null ratio: 0.188\n",
      "sample size: 250\n"
     ]
    }
   ],
   "source": [
    "null_ratio, sample_size, df = check_barcode_null_ratio()\n",
    "print(f'Null ratio: {null_ratio.__round__(3)}')\n",
    "print(f'sample size: {sample_size}')"
   ],
   "metadata": {
    "collapsed": false,
    "ExecuteTime": {
     "end_time": "2023-10-01T18:12:54.130083800Z",
     "start_time": "2023-10-01T18:07:25.277676800Z"
    }
   },
   "id": "27b7d7b75f4a2e38"
  },
  {
   "cell_type": "markdown",
   "source": [
    "### 3. Save the product details to a CSV file and print out the dataframe."
   ],
   "metadata": {
    "collapsed": false
   },
   "id": "39eb1521b65dc060"
  },
  {
   "cell_type": "code",
   "execution_count": 15,
   "outputs": [
    {
     "data": {
      "text/plain": "                                                   url  \\\n0    https://www.trendyol.com/sail-lakers/beyaz-der...   \n1    https://www.trendyol.com/gelincik/kahvaltilik-...   \n2    https://www.trendyol.com/zeyder-kids/kiz-bebek...   \n3    https://www.trendyol.com/nuclear/bubba-juice-1...   \n4    https://www.trendyol.com/midday/2-adet-evinize...   \n..                                                 ...   \n235  https://www.trendyol.com/homamia/isme-ozel-tek...   \n236  https://www.trendyol.com/michael-polo/siyah-4-...   \n237  https://www.trendyol.com/avessa/havlu-bileklik...   \n238  https://www.trendyol.com/aypeteks/koyu-mavi-ke...   \n239  https://www.trendyol.com/ds-diamondshop/bayan-...   \n\n                                                 title  \\\n0    Sail Lakers - Beyaz Deri Bağcıklı Erkek Günlük...   \n1    Gelincik Kahvaltılık Sürülebilir Doğal Katkısı...   \n2      Zeyder Kids Kız Bebek Baskılı T-shirt ZEYDER377   \n3    Nuclear Bubba Juice 10 ml Mix Aroma Kapruz Sak...   \n4    Midday 2 Adet Evinize Şömine Havasını Yaşataca...   \n..                                                 ...   \n235  Homamia Isme Özel Tek Kişilik Mikro Saten Nevr...   \n236  mıchael polo Siyah 4 Bölmeli Fermuarlı Kapamal...   \n237          Avessa Havlu Bileklik Siyah Hb-269 HB-269   \n238  AYPETEKS Koyu Mavi Keten Kutu Model Koltuk Sır...   \n239  DS DİAMONDSHOP Bayan Çelik Bileklik Çb-1305 DM...   \n\n                                           description        price  \\\n0    Bu ürün Sail Lakers tarafından gönderilecektir...     1.390 TL   \n1    Bu ürün GELİNCİK HAŞHAŞ tarafından gönderilece...  1.933,90 TL   \n2    Bu ürün Zeyder Kids tarafından gönderilecektir...       175 TL   \n3    Bu ürün Nuclear Kimya tarafından gönderilecekt...     77,99 TL   \n4    Bu ürün Midday tarafından gönderilecektir.\\nKa...    399,90 TL   \n..                                                 ...          ...   \n235  Bu ürün Homamia tarafından gönderilecektir.\\nK...    789,89 TL   \n236  Bu ürün Gold Yıldız tarafından gönderilecektir...    512,25 TL   \n237  Bu ürün Aplus tarafından gönderilecektir.\\nKam...     47,99 TL   \n238  Bu ürün AYPETEKS tarafından gönderilecektir.\\n...    215,63 TL   \n239  Bu ürün ömer özdemir/diamondsaat tarafından gö...       169 TL   \n\n                                            attributes        barcode  \\\n0    {'Materyal': 'Rugan', 'Topuk Boyu': 'Kısa Topu...     1000547780   \n1                                                   {}           None   \n2    {'Kalıp': 'Standart', 'Materyal': 'Pamuklu', '...  ZEYDER0002052   \n3                                                   {}         nk8014   \n4    {'Duy Tipi': 'E27', 'Ampul Teknolojisi': 'Mum ...      orhan723a   \n..                                                 ...            ...   \n235  {'Materyal': 'Pamuklu', 'Çarşaf Türü': 'Çarşaf...           None   \n236  {'Materyal': 'Suni Deri', 'Boyut': 'Orta', 'Re...           None   \n237                                  {'Renk': 'Beyaz'}  8690000762460   \n238  {'Materyal': 'Keten', 'Parça Sayısı': '1', 'Re...           None   \n239  {'Materyal': 'Paslanmaz Çelik', 'Kapama Şekli'...           None   \n\n                                                images  \n0    [https://cdn.dsmcdn.com/ty996/product/media/im...  \n1    [https://cdn.dsmcdn.com/ty312/product/media/im...  \n2    [https://cdn.dsmcdn.com/ty934/product/media/im...  \n3    [https://cdn.dsmcdn.com/ty934/product/media/im...  \n4    [https://cdn.dsmcdn.com/ty692/product/media/im...  \n..                                                 ...  \n235  [https://cdn.dsmcdn.com/ty789/product/media/im...  \n236  [https://cdn.dsmcdn.com/ty988/product/media/im...  \n237  [https://cdn.dsmcdn.com/ty97/product/media/ima...  \n238  [https://cdn.dsmcdn.com/ty980/product/media/im...  \n239  [https://cdn.dsmcdn.com/ty455/product/media/im...  \n\n[240 rows x 7 columns]",
      "text/html": "<div>\n<style scoped>\n    .dataframe tbody tr th:only-of-type {\n        vertical-align: middle;\n    }\n\n    .dataframe tbody tr th {\n        vertical-align: top;\n    }\n\n    .dataframe thead th {\n        text-align: right;\n    }\n</style>\n<table border=\"1\" class=\"dataframe\">\n  <thead>\n    <tr style=\"text-align: right;\">\n      <th></th>\n      <th>url</th>\n      <th>title</th>\n      <th>description</th>\n      <th>price</th>\n      <th>attributes</th>\n      <th>barcode</th>\n      <th>images</th>\n    </tr>\n  </thead>\n  <tbody>\n    <tr>\n      <th>0</th>\n      <td>https://www.trendyol.com/sail-lakers/beyaz-der...</td>\n      <td>Sail Lakers - Beyaz Deri Bağcıklı Erkek Günlük...</td>\n      <td>Bu ürün Sail Lakers tarafından gönderilecektir...</td>\n      <td>1.390 TL</td>\n      <td>{'Materyal': 'Rugan', 'Topuk Boyu': 'Kısa Topu...</td>\n      <td>1000547780</td>\n      <td>[https://cdn.dsmcdn.com/ty996/product/media/im...</td>\n    </tr>\n    <tr>\n      <th>1</th>\n      <td>https://www.trendyol.com/gelincik/kahvaltilik-...</td>\n      <td>Gelincik Kahvaltılık Sürülebilir Doğal Katkısı...</td>\n      <td>Bu ürün GELİNCİK HAŞHAŞ tarafından gönderilece...</td>\n      <td>1.933,90 TL</td>\n      <td>{}</td>\n      <td>None</td>\n      <td>[https://cdn.dsmcdn.com/ty312/product/media/im...</td>\n    </tr>\n    <tr>\n      <th>2</th>\n      <td>https://www.trendyol.com/zeyder-kids/kiz-bebek...</td>\n      <td>Zeyder Kids Kız Bebek Baskılı T-shirt ZEYDER377</td>\n      <td>Bu ürün Zeyder Kids tarafından gönderilecektir...</td>\n      <td>175 TL</td>\n      <td>{'Kalıp': 'Standart', 'Materyal': 'Pamuklu', '...</td>\n      <td>ZEYDER0002052</td>\n      <td>[https://cdn.dsmcdn.com/ty934/product/media/im...</td>\n    </tr>\n    <tr>\n      <th>3</th>\n      <td>https://www.trendyol.com/nuclear/bubba-juice-1...</td>\n      <td>Nuclear Bubba Juice 10 ml Mix Aroma Kapruz Sak...</td>\n      <td>Bu ürün Nuclear Kimya tarafından gönderilecekt...</td>\n      <td>77,99 TL</td>\n      <td>{}</td>\n      <td>nk8014</td>\n      <td>[https://cdn.dsmcdn.com/ty934/product/media/im...</td>\n    </tr>\n    <tr>\n      <th>4</th>\n      <td>https://www.trendyol.com/midday/2-adet-evinize...</td>\n      <td>Midday 2 Adet Evinize Şömine Havasını Yaşataca...</td>\n      <td>Bu ürün Midday tarafından gönderilecektir.\\nKa...</td>\n      <td>399,90 TL</td>\n      <td>{'Duy Tipi': 'E27', 'Ampul Teknolojisi': 'Mum ...</td>\n      <td>orhan723a</td>\n      <td>[https://cdn.dsmcdn.com/ty692/product/media/im...</td>\n    </tr>\n    <tr>\n      <th>...</th>\n      <td>...</td>\n      <td>...</td>\n      <td>...</td>\n      <td>...</td>\n      <td>...</td>\n      <td>...</td>\n      <td>...</td>\n    </tr>\n    <tr>\n      <th>235</th>\n      <td>https://www.trendyol.com/homamia/isme-ozel-tek...</td>\n      <td>Homamia Isme Özel Tek Kişilik Mikro Saten Nevr...</td>\n      <td>Bu ürün Homamia tarafından gönderilecektir.\\nK...</td>\n      <td>789,89 TL</td>\n      <td>{'Materyal': 'Pamuklu', 'Çarşaf Türü': 'Çarşaf...</td>\n      <td>None</td>\n      <td>[https://cdn.dsmcdn.com/ty789/product/media/im...</td>\n    </tr>\n    <tr>\n      <th>236</th>\n      <td>https://www.trendyol.com/michael-polo/siyah-4-...</td>\n      <td>mıchael polo Siyah 4 Bölmeli Fermuarlı Kapamal...</td>\n      <td>Bu ürün Gold Yıldız tarafından gönderilecektir...</td>\n      <td>512,25 TL</td>\n      <td>{'Materyal': 'Suni Deri', 'Boyut': 'Orta', 'Re...</td>\n      <td>None</td>\n      <td>[https://cdn.dsmcdn.com/ty988/product/media/im...</td>\n    </tr>\n    <tr>\n      <th>237</th>\n      <td>https://www.trendyol.com/avessa/havlu-bileklik...</td>\n      <td>Avessa Havlu Bileklik Siyah Hb-269 HB-269</td>\n      <td>Bu ürün Aplus tarafından gönderilecektir.\\nKam...</td>\n      <td>47,99 TL</td>\n      <td>{'Renk': 'Beyaz'}</td>\n      <td>8690000762460</td>\n      <td>[https://cdn.dsmcdn.com/ty97/product/media/ima...</td>\n    </tr>\n    <tr>\n      <th>238</th>\n      <td>https://www.trendyol.com/aypeteks/koyu-mavi-ke...</td>\n      <td>AYPETEKS Koyu Mavi Keten Kutu Model Koltuk Sır...</td>\n      <td>Bu ürün AYPETEKS tarafından gönderilecektir.\\n...</td>\n      <td>215,63 TL</td>\n      <td>{'Materyal': 'Keten', 'Parça Sayısı': '1', 'Re...</td>\n      <td>None</td>\n      <td>[https://cdn.dsmcdn.com/ty980/product/media/im...</td>\n    </tr>\n    <tr>\n      <th>239</th>\n      <td>https://www.trendyol.com/ds-diamondshop/bayan-...</td>\n      <td>DS DİAMONDSHOP Bayan Çelik Bileklik Çb-1305 DM...</td>\n      <td>Bu ürün ömer özdemir/diamondsaat tarafından gö...</td>\n      <td>169 TL</td>\n      <td>{'Materyal': 'Paslanmaz Çelik', 'Kapama Şekli'...</td>\n      <td>None</td>\n      <td>[https://cdn.dsmcdn.com/ty455/product/media/im...</td>\n    </tr>\n  </tbody>\n</table>\n<p>240 rows × 7 columns</p>\n</div>"
     },
     "execution_count": 15,
     "metadata": {},
     "output_type": "execute_result"
    }
   ],
   "source": [
    "df.to_csv('product_details.csv', index=False)\n",
    "df"
   ],
   "metadata": {
    "collapsed": false,
    "ExecuteTime": {
     "end_time": "2023-10-01T18:12:54.242696300Z",
     "start_time": "2023-10-01T18:12:54.146317500Z"
    }
   },
   "id": "55e128c1081563dd"
  }
 ],
 "metadata": {
  "kernelspec": {
   "display_name": "Python 3",
   "language": "python",
   "name": "python3"
  },
  "language_info": {
   "codemirror_mode": {
    "name": "ipython",
    "version": 2
   },
   "file_extension": ".py",
   "mimetype": "text/x-python",
   "name": "python",
   "nbconvert_exporter": "python",
   "pygments_lexer": "ipython2",
   "version": "2.7.6"
  }
 },
 "nbformat": 4,
 "nbformat_minor": 5
}
